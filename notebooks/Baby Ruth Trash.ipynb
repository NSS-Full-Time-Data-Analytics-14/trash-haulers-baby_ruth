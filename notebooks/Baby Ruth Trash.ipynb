{
 "cells": [
  {
   "cell_type": "code",
   "execution_count": 1,
   "id": "165f9a0f-cfac-4830-8b5e-fad0e60e6a43",
   "metadata": {},
   "outputs": [],
   "source": [
    "import pandas as pd\n",
    "import numpy as np\n",
    "import matplotlib.pyplot as plt\n",
    "import re\n",
    "import seaborn as sns"
   ]
  },
  {
   "cell_type": "code",
   "execution_count": 2,
   "id": "7402411f-7434-4650-9e22-24ce1629354c",
   "metadata": {},
   "outputs": [],
   "source": [
    "trash = pd.read_csv('../data/trash_hauler_report.csv')"
   ]
  },
  {
   "cell_type": "code",
   "execution_count": 3,
   "id": "13d78cff-bfa7-4c06-a407-fc691168ac0f",
   "metadata": {},
   "outputs": [],
   "source": [
    "trash['Zip Code'] = trash['Zip Code'].astype(str)\n",
    "trash['Council District'] = trash['Council District'].astype(str)\n",
    "trash['Zip Code'] = trash['Zip Code'].str[:5]\n",
    "trash['Council District'] = trash['Council District'].str[:-2]\n",
    "trash['Incident Address'] = trash['Incident Address'].str.title()\n",
    "trash.columns = trash.columns.str.rstrip()\n",
    "trash['Incident Address'] = trash['Incident Address'].str.split(',', expand = True)[0]\n",
    "trash['Description'] = trash['Description'].str.title() \n",
    "trash['miss_in_description'] = trash['Description'].str.extract(r'(Miss)')\n",
    "trash['Trash Hauler'] = trash['Trash Hauler'].str.title()"
   ]
  },
  {
   "cell_type": "code",
   "execution_count": 4,
   "id": "31b491f6-27e2-464e-aa3b-43e648740869",
   "metadata": {},
   "outputs": [
    {
     "data": {
      "text/plain": [
       "(12838, 12)"
      ]
     },
     "execution_count": 4,
     "metadata": {},
     "output_type": "execute_result"
    }
   ],
   "source": [
    "red_river = trash.loc[(trash['Trash Hauler'] == 'Red River')]\n",
    "red_river_misses = red_river.loc[(red_river['Request'] == 'Trash - Curbside/Alley Missed Pickup') \n",
    "                                |(red_river['miss_in_description'] == 'Miss')]\n",
    "red_river_misses.shape"
   ]
  },
  {
   "cell_type": "code",
   "execution_count": 5,
   "id": "664f502d-e4f5-49ea-9d10-a0818d09cb26",
   "metadata": {},
   "outputs": [],
   "source": [
    "red_river_fines = ((red_river_misses['Incident Address'].value_counts()-1)*200).to_frame().reset_index()\n",
    "red_river_fines = red_river_fines.rename(columns = {'count':'Fine'})"
   ]
  },
  {
   "cell_type": "code",
   "execution_count": 6,
   "id": "ed6775ce-207e-4d45-91bc-ef25fecc5f94",
   "metadata": {},
   "outputs": [
    {
     "data": {
      "text/plain": [
       "919400"
      ]
     },
     "execution_count": 6,
     "metadata": {},
     "output_type": "execute_result"
    }
   ],
   "source": [
    "red_river_fines['Fine'].sum()"
   ]
  },
  {
   "cell_type": "code",
   "execution_count": 60,
   "id": "6025cc6c-d25f-4dbb-b6a9-995e55c68788",
   "metadata": {},
   "outputs": [],
   "source": [
    "trash_misses = trash.loc[(trash['Request'] == 'Trash - Curbside/Alley Missed Pickup') \n",
    "                        |(trash['miss_in_description'] == 'Miss')]"
   ]
  },
  {
   "cell_type": "code",
   "execution_count": 8,
   "id": "fd984420-34b7-499e-89aa-3cfdfd3bc042",
   "metadata": {},
   "outputs": [
    {
     "data": {
      "text/html": [
       "<div>\n",
       "<style scoped>\n",
       "    .dataframe tbody tr th:only-of-type {\n",
       "        vertical-align: middle;\n",
       "    }\n",
       "\n",
       "    .dataframe tbody tr th {\n",
       "        vertical-align: top;\n",
       "    }\n",
       "\n",
       "    .dataframe thead th {\n",
       "        text-align: right;\n",
       "    }\n",
       "</style>\n",
       "<table border=\"1\" class=\"dataframe\">\n",
       "  <thead>\n",
       "    <tr style=\"text-align: right;\">\n",
       "      <th></th>\n",
       "      <th>Trash Route</th>\n",
       "      <th>count</th>\n",
       "    </tr>\n",
       "  </thead>\n",
       "  <tbody>\n",
       "    <tr>\n",
       "      <th>0</th>\n",
       "      <td>4504</td>\n",
       "      <td>329</td>\n",
       "    </tr>\n",
       "    <tr>\n",
       "      <th>1</th>\n",
       "      <td>3302</td>\n",
       "      <td>291</td>\n",
       "    </tr>\n",
       "    <tr>\n",
       "      <th>2</th>\n",
       "      <td>4404</td>\n",
       "      <td>255</td>\n",
       "    </tr>\n",
       "    <tr>\n",
       "      <th>3</th>\n",
       "      <td>9303</td>\n",
       "      <td>245</td>\n",
       "    </tr>\n",
       "    <tr>\n",
       "      <th>4</th>\n",
       "      <td>1303</td>\n",
       "      <td>240</td>\n",
       "    </tr>\n",
       "    <tr>\n",
       "      <th>...</th>\n",
       "      <td>...</td>\n",
       "      <td>...</td>\n",
       "    </tr>\n",
       "    <tr>\n",
       "      <th>167</th>\n",
       "      <td>4504S</td>\n",
       "      <td>3</td>\n",
       "    </tr>\n",
       "    <tr>\n",
       "      <th>168</th>\n",
       "      <td>3303S</td>\n",
       "      <td>2</td>\n",
       "    </tr>\n",
       "    <tr>\n",
       "      <th>169</th>\n",
       "      <td>2505S</td>\n",
       "      <td>2</td>\n",
       "    </tr>\n",
       "    <tr>\n",
       "      <th>170</th>\n",
       "      <td>4201S</td>\n",
       "      <td>2</td>\n",
       "    </tr>\n",
       "    <tr>\n",
       "      <th>171</th>\n",
       "      <td>1502S</td>\n",
       "      <td>1</td>\n",
       "    </tr>\n",
       "  </tbody>\n",
       "</table>\n",
       "<p>172 rows × 2 columns</p>\n",
       "</div>"
      ],
      "text/plain": [
       "    Trash Route  count\n",
       "0          4504    329\n",
       "1          3302    291\n",
       "2          4404    255\n",
       "3          9303    245\n",
       "4          1303    240\n",
       "..          ...    ...\n",
       "167       4504S      3\n",
       "168       3303S      2\n",
       "169       2505S      2\n",
       "170       4201S      2\n",
       "171       1502S      1\n",
       "\n",
       "[172 rows x 2 columns]"
      ]
     },
     "execution_count": 8,
     "metadata": {},
     "output_type": "execute_result"
    }
   ],
   "source": [
    "trash_misses['Trash Route'].value_counts().to_frame().reset_index()"
   ]
  },
  {
   "cell_type": "code",
   "execution_count": 9,
   "id": "ac4550d9-eaf1-4d58-aefc-0c48551a7479",
   "metadata": {},
   "outputs": [],
   "source": [
    "total_fines = ((trash_misses['Incident Address'].value_counts()-1)*200).to_frame().reset_index()\n",
    "total_fines = total_fines.rename(columns = {'count':'Fine'})"
   ]
  },
  {
   "cell_type": "code",
   "execution_count": 62,
   "id": "21ef01e3-e1bd-4333-9ec6-6432894bb9d5",
   "metadata": {},
   "outputs": [],
   "source": [
    "total_misses_by_zip = trash_misses.groupby('Zip Code')['Trash Hauler'].value_counts().reset_index()"
   ]
  },
  {
   "cell_type": "code",
   "execution_count": 11,
   "id": "dfaf652e-5731-41a3-a572-abbb7b46f321",
   "metadata": {},
   "outputs": [
    {
     "data": {
      "text/html": [
       "<div>\n",
       "<style scoped>\n",
       "    .dataframe tbody tr th:only-of-type {\n",
       "        vertical-align: middle;\n",
       "    }\n",
       "\n",
       "    .dataframe tbody tr th {\n",
       "        vertical-align: top;\n",
       "    }\n",
       "\n",
       "    .dataframe thead th {\n",
       "        text-align: right;\n",
       "    }\n",
       "</style>\n",
       "<table border=\"1\" class=\"dataframe\">\n",
       "  <thead>\n",
       "    <tr style=\"text-align: right;\">\n",
       "      <th></th>\n",
       "      <th>Trash Hauler</th>\n",
       "      <th>count</th>\n",
       "    </tr>\n",
       "  </thead>\n",
       "  <tbody>\n",
       "    <tr>\n",
       "      <th>0</th>\n",
       "      <td>Red River</td>\n",
       "      <td>12838</td>\n",
       "    </tr>\n",
       "    <tr>\n",
       "      <th>1</th>\n",
       "      <td>Metro</td>\n",
       "      <td>3022</td>\n",
       "    </tr>\n",
       "    <tr>\n",
       "      <th>2</th>\n",
       "      <td>Waste Ind</td>\n",
       "      <td>1128</td>\n",
       "    </tr>\n",
       "  </tbody>\n",
       "</table>\n",
       "</div>"
      ],
      "text/plain": [
       "  Trash Hauler  count\n",
       "0    Red River  12838\n",
       "1        Metro   3022\n",
       "2    Waste Ind   1128"
      ]
     },
     "execution_count": 11,
     "metadata": {},
     "output_type": "execute_result"
    }
   ],
   "source": [
    "miss = trash_misses['Trash Hauler'].value_counts().to_frame().reset_index()\n",
    "miss"
   ]
  },
  {
   "cell_type": "code",
   "execution_count": 12,
   "id": "aca55bc5-4072-4140-89ef-a93fc6c450c6",
   "metadata": {},
   "outputs": [
    {
     "data": {
      "text/html": [
       "<div>\n",
       "<style scoped>\n",
       "    .dataframe tbody tr th:only-of-type {\n",
       "        vertical-align: middle;\n",
       "    }\n",
       "\n",
       "    .dataframe tbody tr th {\n",
       "        vertical-align: top;\n",
       "    }\n",
       "\n",
       "    .dataframe thead th {\n",
       "        text-align: right;\n",
       "    }\n",
       "</style>\n",
       "<table border=\"1\" class=\"dataframe\">\n",
       "  <thead>\n",
       "    <tr style=\"text-align: right;\">\n",
       "      <th></th>\n",
       "      <th>Trash Hauler</th>\n",
       "      <th>count</th>\n",
       "    </tr>\n",
       "  </thead>\n",
       "  <tbody>\n",
       "    <tr>\n",
       "      <th>0</th>\n",
       "      <td>Red River</td>\n",
       "      <td>14395</td>\n",
       "    </tr>\n",
       "    <tr>\n",
       "      <th>1</th>\n",
       "      <td>Metro</td>\n",
       "      <td>3580</td>\n",
       "    </tr>\n",
       "    <tr>\n",
       "      <th>2</th>\n",
       "      <td>Waste Ind</td>\n",
       "      <td>1350</td>\n",
       "    </tr>\n",
       "  </tbody>\n",
       "</table>\n",
       "</div>"
      ],
      "text/plain": [
       "  Trash Hauler  count\n",
       "0    Red River  14395\n",
       "1        Metro   3580\n",
       "2    Waste Ind   1350"
      ]
     },
     "execution_count": 12,
     "metadata": {},
     "output_type": "execute_result"
    }
   ],
   "source": [
    "total = trash['Trash Hauler'].value_counts().to_frame().reset_index()\n",
    "total"
   ]
  },
  {
   "cell_type": "code",
   "execution_count": 13,
   "id": "fd4a2402-b913-46b2-b876-c37b01059750",
   "metadata": {},
   "outputs": [],
   "source": [
    "compare = pd.merge(miss, total, left_on = 'Trash Hauler', right_on = 'Trash Hauler')\n",
    "compare = compare.rename(columns = {'count_x':'missed', 'count_y':'total'})"
   ]
  },
  {
   "cell_type": "code",
   "execution_count": 14,
   "id": "0ee4a6e4-8869-45f5-8a91-2d53246277a9",
   "metadata": {},
   "outputs": [
    {
     "data": {
      "text/html": [
       "<div>\n",
       "<style scoped>\n",
       "    .dataframe tbody tr th:only-of-type {\n",
       "        vertical-align: middle;\n",
       "    }\n",
       "\n",
       "    .dataframe tbody tr th {\n",
       "        vertical-align: top;\n",
       "    }\n",
       "\n",
       "    .dataframe thead th {\n",
       "        text-align: right;\n",
       "    }\n",
       "</style>\n",
       "<table border=\"1\" class=\"dataframe\">\n",
       "  <thead>\n",
       "    <tr style=\"text-align: right;\">\n",
       "      <th></th>\n",
       "      <th>Trash Hauler</th>\n",
       "      <th>missed</th>\n",
       "      <th>total</th>\n",
       "      <th>Pct Missed</th>\n",
       "    </tr>\n",
       "  </thead>\n",
       "  <tbody>\n",
       "    <tr>\n",
       "      <th>0</th>\n",
       "      <td>Red River</td>\n",
       "      <td>12838</td>\n",
       "      <td>14395</td>\n",
       "      <td>0.891837</td>\n",
       "    </tr>\n",
       "    <tr>\n",
       "      <th>1</th>\n",
       "      <td>Metro</td>\n",
       "      <td>3022</td>\n",
       "      <td>3580</td>\n",
       "      <td>0.844134</td>\n",
       "    </tr>\n",
       "    <tr>\n",
       "      <th>2</th>\n",
       "      <td>Waste Ind</td>\n",
       "      <td>1128</td>\n",
       "      <td>1350</td>\n",
       "      <td>0.835556</td>\n",
       "    </tr>\n",
       "  </tbody>\n",
       "</table>\n",
       "</div>"
      ],
      "text/plain": [
       "  Trash Hauler  missed  total  Pct Missed\n",
       "0    Red River   12838  14395    0.891837\n",
       "1        Metro    3022   3580    0.844134\n",
       "2    Waste Ind    1128   1350    0.835556"
      ]
     },
     "execution_count": 14,
     "metadata": {},
     "output_type": "execute_result"
    }
   ],
   "source": [
    "compare['Pct Missed'] = compare['missed']/compare['total']\n",
    "compare"
   ]
  },
  {
   "cell_type": "code",
   "execution_count": 38,
   "id": "cf94b0ea-bc8f-45d0-958a-1ca02a2017f4",
   "metadata": {},
   "outputs": [
    {
     "data": {
      "text/plain": [
       "Trash Hauler  Trash Route\n",
       "Metro         9303           267\n",
       "              9203           241\n",
       "              9208           232\n",
       "              9503           195\n",
       "              9403           168\n",
       "                            ... \n",
       "Waste Ind     4407            71\n",
       "              2408            46\n",
       "              2306            44\n",
       "              4508            39\n",
       "              2207            24\n",
       "Name: count, Length: 177, dtype: int64"
      ]
     },
     "execution_count": 38,
     "metadata": {},
     "output_type": "execute_result"
    }
   ],
   "source": [
    "trash.groupby('Trash Hauler')['Trash Route'].value_counts()"
   ]
  },
  {
   "cell_type": "code",
   "execution_count": 52,
   "id": "38befc73-51e3-48ba-a00b-bae0f647632b",
   "metadata": {},
   "outputs": [
    {
     "data": {
      "text/html": [
       "<div>\n",
       "<style scoped>\n",
       "    .dataframe tbody tr th:only-of-type {\n",
       "        vertical-align: middle;\n",
       "    }\n",
       "\n",
       "    .dataframe tbody tr th {\n",
       "        vertical-align: top;\n",
       "    }\n",
       "\n",
       "    .dataframe thead th {\n",
       "        text-align: right;\n",
       "    }\n",
       "</style>\n",
       "<table border=\"1\" class=\"dataframe\">\n",
       "  <thead>\n",
       "    <tr style=\"text-align: right;\">\n",
       "      <th></th>\n",
       "      <th>Trash Hauler</th>\n",
       "      <th>Trash Route</th>\n",
       "    </tr>\n",
       "  </thead>\n",
       "  <tbody>\n",
       "    <tr>\n",
       "      <th>0</th>\n",
       "      <td>Metro</td>\n",
       "      <td>33</td>\n",
       "    </tr>\n",
       "    <tr>\n",
       "      <th>1</th>\n",
       "      <td>Red River</td>\n",
       "      <td>125</td>\n",
       "    </tr>\n",
       "    <tr>\n",
       "      <th>2</th>\n",
       "      <td>Waste Ind</td>\n",
       "      <td>16</td>\n",
       "    </tr>\n",
       "  </tbody>\n",
       "</table>\n",
       "</div>"
      ],
      "text/plain": [
       "  Trash Hauler  Trash Route\n",
       "0        Metro           33\n",
       "1    Red River          125\n",
       "2    Waste Ind           16"
      ]
     },
     "execution_count": 52,
     "metadata": {},
     "output_type": "execute_result"
    }
   ],
   "source": [
    "trash_misses.groupby('Trash Hauler')['Trash Route'].nunique().to_frame().reset_index()"
   ]
  },
  {
   "cell_type": "code",
   "execution_count": null,
   "id": "1b38edf6-97a8-4df9-8e64-6744aa96989c",
   "metadata": {},
   "outputs": [],
   "source": [
    "all_hauls_missed = trash.loc[(trash['Request'] == 'Trash - Curbside/Alley Missed Pickup') | (trash['Miss_In_Description'] == 'Miss')]\n",
    "hauler_perf = all_hauls_missed.groupby('Trash Hauler')['Request Number'].count().to_frame().reset_index()\n",
    "hauler_routes = trash.groupby('Trash Hauler')['Trash Route'].nunique().to_frame().reset_index()\n",
    "hauler_routes\n",
    "hauler_merged= pd.merge(hauler_routes, hauler_perf, on = 'Trash Hauler', how = 'inner')\n",
    "hauler_merged.columns = ['Hauler','Number of Routes','Number of Miss Complaints']\n",
    "hauler_merged['Avg Misses per Route'] = (hauler_merged['Number of Miss Complaints'] / hauler_merged['Number of Routes']).round(2)\n",
    "hauler_merged\n",
    "sns.barplot(x = 'Hauler', y = 'Avg Misses per Route', data = hauler_merged, hue = 'Hauler', palette = 'Dark2')\n",
    "plt.title('Missed Pickup Complaints per Assigned Route');"
   ]
  },
  {
   "cell_type": "code",
   "execution_count": 64,
   "id": "40f9f936-060d-45e1-8421-0f9e7b8c6c63",
   "metadata": {},
   "outputs": [
    {
     "data": {
      "text/html": [
       "<div>\n",
       "<style scoped>\n",
       "    .dataframe tbody tr th:only-of-type {\n",
       "        vertical-align: middle;\n",
       "    }\n",
       "\n",
       "    .dataframe tbody tr th {\n",
       "        vertical-align: top;\n",
       "    }\n",
       "\n",
       "    .dataframe thead th {\n",
       "        text-align: right;\n",
       "    }\n",
       "</style>\n",
       "<table border=\"1\" class=\"dataframe\">\n",
       "  <thead>\n",
       "    <tr style=\"text-align: right;\">\n",
       "      <th></th>\n",
       "      <th>Request Number</th>\n",
       "      <th>Date Opened</th>\n",
       "      <th>Request</th>\n",
       "      <th>Description</th>\n",
       "      <th>Incident Address</th>\n",
       "      <th>Zip Code</th>\n",
       "      <th>Trash Hauler</th>\n",
       "      <th>Trash Route</th>\n",
       "      <th>Council District</th>\n",
       "      <th>State Plan X</th>\n",
       "      <th>State Plan Y</th>\n",
       "      <th>miss_in_description</th>\n",
       "    </tr>\n",
       "  </thead>\n",
       "  <tbody>\n",
       "    <tr>\n",
       "      <th>0</th>\n",
       "      <td>25270</td>\n",
       "      <td>11/01/17</td>\n",
       "      <td>Trash - Backdoor</td>\n",
       "      <td>House With The Wheel Chair Ramp, They Share Dr...</td>\n",
       "      <td>3817 Crouch Dr</td>\n",
       "      <td>37207</td>\n",
       "      <td>Red River</td>\n",
       "      <td>3205</td>\n",
       "      <td>2</td>\n",
       "      <td>1.727970e+06</td>\n",
       "      <td>686779.478089</td>\n",
       "      <td>NaN</td>\n",
       "    </tr>\n",
       "    <tr>\n",
       "      <th>1</th>\n",
       "      <td>25274</td>\n",
       "      <td>11/01/17</td>\n",
       "      <td>Trash - Curbside/Alley Missed Pickup</td>\n",
       "      <td>Curb/Trash Miss Tuesday.</td>\n",
       "      <td>4028 Clarksville Pike</td>\n",
       "      <td>37218</td>\n",
       "      <td>Red River</td>\n",
       "      <td>4202</td>\n",
       "      <td>1</td>\n",
       "      <td>1.721259e+06</td>\n",
       "      <td>685444.799565</td>\n",
       "      <td>Miss</td>\n",
       "    </tr>\n",
       "    <tr>\n",
       "      <th>2</th>\n",
       "      <td>25276</td>\n",
       "      <td>11/01/17</td>\n",
       "      <td>Trash - Curbside/Alley Missed Pickup</td>\n",
       "      <td>Curb/Trash Miss Tuesday.</td>\n",
       "      <td>6528 Thunderbird Dr</td>\n",
       "      <td>37209</td>\n",
       "      <td>Red River</td>\n",
       "      <td>4205</td>\n",
       "      <td>20</td>\n",
       "      <td>1.707027e+06</td>\n",
       "      <td>659887.471571</td>\n",
       "      <td>Miss</td>\n",
       "    </tr>\n",
       "    <tr>\n",
       "      <th>3</th>\n",
       "      <td>25307</td>\n",
       "      <td>11/01/17</td>\n",
       "      <td>Trash - Curbside/Alley Missed Pickup</td>\n",
       "      <td>Missed</td>\n",
       "      <td>2603 Old Matthews Rd</td>\n",
       "      <td>37207</td>\n",
       "      <td>Waste Ind</td>\n",
       "      <td>2206</td>\n",
       "      <td>2</td>\n",
       "      <td>1.735692e+06</td>\n",
       "      <td>685027.245923</td>\n",
       "      <td>Miss</td>\n",
       "    </tr>\n",
       "    <tr>\n",
       "      <th>4</th>\n",
       "      <td>25312</td>\n",
       "      <td>11/01/17</td>\n",
       "      <td>Trash - Curbside/Alley Missed Pickup</td>\n",
       "      <td>Missed The Even Side Of The Road.</td>\n",
       "      <td>604 Croley Dr</td>\n",
       "      <td>37209</td>\n",
       "      <td>Red River</td>\n",
       "      <td>4203</td>\n",
       "      <td>20</td>\n",
       "      <td>1.710186e+06</td>\n",
       "      <td>664205.101066</td>\n",
       "      <td>Miss</td>\n",
       "    </tr>\n",
       "  </tbody>\n",
       "</table>\n",
       "</div>"
      ],
      "text/plain": [
       "   Request Number Date Opened                               Request  \\\n",
       "0           25270    11/01/17                      Trash - Backdoor   \n",
       "1           25274    11/01/17  Trash - Curbside/Alley Missed Pickup   \n",
       "2           25276    11/01/17  Trash - Curbside/Alley Missed Pickup   \n",
       "3           25307    11/01/17  Trash - Curbside/Alley Missed Pickup   \n",
       "4           25312    11/01/17  Trash - Curbside/Alley Missed Pickup   \n",
       "\n",
       "                                         Description       Incident Address  \\\n",
       "0  House With The Wheel Chair Ramp, They Share Dr...         3817 Crouch Dr   \n",
       "1                           Curb/Trash Miss Tuesday.  4028 Clarksville Pike   \n",
       "2                           Curb/Trash Miss Tuesday.    6528 Thunderbird Dr   \n",
       "3                                             Missed   2603 Old Matthews Rd   \n",
       "4                  Missed The Even Side Of The Road.          604 Croley Dr   \n",
       "\n",
       "  Zip Code Trash Hauler Trash Route Council District  State Plan X  \\\n",
       "0    37207    Red River        3205                2  1.727970e+06   \n",
       "1    37218    Red River        4202                1  1.721259e+06   \n",
       "2    37209    Red River        4205               20  1.707027e+06   \n",
       "3    37207    Waste Ind        2206                2  1.735692e+06   \n",
       "4    37209    Red River        4203               20  1.710186e+06   \n",
       "\n",
       "    State Plan Y miss_in_description  \n",
       "0  686779.478089                 NaN  \n",
       "1  685444.799565                Miss  \n",
       "2  659887.471571                Miss  \n",
       "3  685027.245923                Miss  \n",
       "4  664205.101066                Miss  "
      ]
     },
     "execution_count": 64,
     "metadata": {},
     "output_type": "execute_result"
    }
   ],
   "source": [
    "trash.head()"
   ]
  },
  {
   "cell_type": "code",
   "execution_count": 74,
   "id": "0a01e0fc-2bf6-4d2b-a715-14d79fea8656",
   "metadata": {},
   "outputs": [
    {
     "data": {
      "text/plain": [
       "0        2017-11-01\n",
       "1        2017-11-01\n",
       "2        2017-11-01\n",
       "3        2017-11-01\n",
       "4        2017-11-01\n",
       "            ...    \n",
       "20221    2019-11-01\n",
       "20222    2019-11-01\n",
       "20223    2019-11-01\n",
       "20224    2019-11-01\n",
       "20225    2019-11-01\n",
       "Name: Date Opened, Length: 20226, dtype: object"
      ]
     },
     "execution_count": 74,
     "metadata": {},
     "output_type": "execute_result"
    }
   ],
   "source": [
    "pd.to_datetime(trash['Date Opened'],format='%m/%d/%y').dt.strftime('%Y-%m-%d')"
   ]
  },
  {
   "cell_type": "code",
   "execution_count": null,
   "id": "927fb31a-6629-4d14-b81b-7c40a37181be",
   "metadata": {},
   "outputs": [],
   "source": []
  }
 ],
 "metadata": {
  "kernelspec": {
   "display_name": "Python 3 (ipykernel)",
   "language": "python",
   "name": "python3"
  },
  "language_info": {
   "codemirror_mode": {
    "name": "ipython",
    "version": 3
   },
   "file_extension": ".py",
   "mimetype": "text/x-python",
   "name": "python",
   "nbconvert_exporter": "python",
   "pygments_lexer": "ipython3",
   "version": "3.12.4"
  }
 },
 "nbformat": 4,
 "nbformat_minor": 5
}
